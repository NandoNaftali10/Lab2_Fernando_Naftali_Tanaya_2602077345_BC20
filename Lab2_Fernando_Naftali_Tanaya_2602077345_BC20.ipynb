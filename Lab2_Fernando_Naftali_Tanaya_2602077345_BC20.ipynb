{
  "nbformat": 4,
  "nbformat_minor": 0,
  "metadata": {
    "colab": {
      "provenance": []
    },
    "kernelspec": {
      "name": "python3",
      "display_name": "Python 3"
    },
    "language_info": {
      "name": "python"
    }
  },
  "cells": [
    {
      "cell_type": "code",
      "execution_count": null,
      "metadata": {
        "colab": {
          "base_uri": "https://localhost:8080/"
        },
        "id": "aRP-lRhnRX3Z",
        "outputId": "2429461b-68fa-417c-ae3d-9b872304d6e3"
      },
      "outputs": [
        {
          "output_type": "stream",
          "name": "stdout",
          "text": [
            "matrix is diagonally dominant\n"
          ]
        }
      ],
      "source": [
        "import numpy as np\n",
        "a = [[8, 3, -3], [-2, -8, 5], [3, 5, 10]]\n",
        "\n",
        "#find diagonal coefficients\n",
        "diag = np.diag(np.abs(a))\n",
        "\n",
        "#find\n",
        "off_diag = np.sum(np.abs(a), axis = 1) - diag\n",
        "\n",
        "if np.all(diag > off_diag):\n",
        "  print('matrix is diagonally dominant')\n",
        "else:\n",
        "  print('not diagonally dominant')"
      ]
    },
    {
      "cell_type": "code",
      "source": [
        "x1 = 0\n",
        "x2 = 0\n",
        "x3 = 0\n",
        "\n",
        "epsilon = 0.01\n",
        "coverged = False\n",
        "\n",
        "x_old = np.array([x1, x2, x3])"
      ],
      "metadata": {
        "id": "u835q4KpTxDG"
      },
      "execution_count": null,
      "outputs": []
    },
    {
      "cell_type": "code",
      "source": [
        "print('iteration result')\n",
        "print(' k,     x1,      x2,     x3 ')\n",
        "for k in range(1, 50):\n",
        "  x1 = (14 - 3 * x2 + 3 * x3) /8\n",
        "  x2 = (5 + 2 * x1 - 5 * x3) / (-8)\n",
        "  x3 = (-8 - 3 * x1 - 5 * x2) / (10)\n",
        "  x = np.array([x1, x2, x3])\n",
        "\n",
        "  #check if it is smaller thanthreshold\n",
        "  dx = np.sqrt(np.dot(x - x_old, x - x_old))\n",
        "\n",
        "  print(\"%d, %.4f, %.4f, %.4f\"%(k, x1, x2, x3))\n",
        "  if dx < epsilon:\n",
        "      converged = True\n",
        "      print('Converged!')\n",
        "      break\n",
        "  \n",
        "  x_old = x\n",
        "\n",
        "if not converged:\n",
        "  print('Not converged, increase the # of iterations')"
      ],
      "metadata": {
        "colab": {
          "base_uri": "https://localhost:8080/"
        },
        "id": "MtXErrgqUpFN",
        "outputId": "d9eb52c3-00d2-4dcf-a5a3-c3326d780452"
      },
      "execution_count": null,
      "outputs": [
        {
          "output_type": "stream",
          "name": "stdout",
          "text": [
            "iteration result\n",
            " k,     x1,      x2,     x3 \n",
            "1, 2.0888, -1.5534, -0.6499\n",
            "Converged!\n"
          ]
        }
      ]
    }
  ]
}